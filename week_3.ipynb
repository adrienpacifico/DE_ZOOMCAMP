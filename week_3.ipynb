{
 "cells": [
  {
   "cell_type": "markdown",
   "id": "ad57788d-6f61-4bf0-9c21-8647e87117bd",
   "metadata": {},
   "source": [
    "# Week 3"
   ]
  },
  {
   "cell_type": "markdown",
   "id": "d31882fe-2e52-4c63-8881-e8543e5b89b4",
   "metadata": {},
   "source": [
    "## Queries :\n",
    "\n",
    "---- create external table \n",
    "CREATE OR REPLACE EXTERNAL TABLE `data-zoomcamp-de.taxi.external_fhv_data`\n",
    "OPTIONS (\n",
    "  format = 'CSV',\n",
    "  uris =['gs://fhv-trip-data/FHV-Data/fhv_tripdata_2019-*.csv.gz'] \n",
    ");\n",
    "\n",
    "\n",
    "--- Create internal table \n",
    "CREATE OR REPLACE TABLE  data-zoomcamp-de.taxi.internal_fhv_data_non_partitioned AS\n",
    "SELECT * FROM data-zoomcamp-de.taxi.external_fhv_data;\n",
    "\n",
    "\n",
    "SELECT COUNT(1) FROM `data-zoomcamp-de.taxi.external_fhv_data`;\n",
    "\n",
    "\n",
    "--- Write a query to count the distinct number of affiliated_base_number for the entire dataset on both the tables.\n",
    "-- What is the estimated amount of data that will be read when this query is executed on the External Table and the Table?\n",
    "\n",
    "SELECT COUNT(DISTINCT(affiliated_base_number)) FROM `data-zoomcamp-de.taxi.external_fhv_data`;\n",
    "\n",
    "\n",
    "SELECT COUNT(DISTINCT(affiliated_base_number)) FROM `data-zoomcamp-de.taxi.internal_fhv_data_non_partitioned`;\n",
    "\n",
    "-- How many records have both a blank (null) PUlocationID and DOlocationID in the entire dataset?\n",
    "\n",
    "\n",
    "\n",
    "SELECT COUNT(*) FROM `data-zoomcamp-de.taxi.internal_fhv_data_non_partitioned`\n",
    "WHERE PUlocationID is NULL AND DOlocationID is NULL;\n",
    "\n",
    "SELECT DISTINCT(affiliated_base_number)\n",
    "FROM `data-zoomcamp-de.taxi.internal_fhv_data_non_partitioned`\n",
    "WHERE DATE(pickup_datetime) BETWEEN '2019-03-01' AND '2019-03-31';\n",
    "\n",
    "\n",
    "CREATE OR REPLACE TABLE  data-zoomcamp-de.taxi.internal_fhv_data_partitioned\n",
    "PARTITION BY \n",
    "DATE(pickup_datetime) AS\n",
    "SELECT * FROM data-zoomcamp-de.taxi.internal_fhv_data_non_partitioned;\n",
    "\n",
    "SELECT DISTINCT(affiliated_base_number)\n",
    "FROM `data-zoomcamp-de.taxi.internal_fhv_data_partitioned`\n",
    "WHERE DATE(pickup_datetime) BETWEEN '2019-03-01' AND '2019-03-31';\n"
   ]
  },
  {
   "cell_type": "code",
   "execution_count": null,
   "id": "0fec45ca-5515-4520-bb2f-26d6f59d631c",
   "metadata": {},
   "outputs": [],
   "source": []
  },
  {
   "cell_type": "code",
   "execution_count": null,
   "id": "ca6ad3b5-a90b-4a3f-add0-7d46f6cd3b04",
   "metadata": {},
   "outputs": [],
   "source": []
  }
 ],
 "metadata": {
  "kernelspec": {
   "display_name": "Python 3 (ipykernel)",
   "language": "python",
   "name": "python3"
  },
  "language_info": {
   "codemirror_mode": {
    "name": "ipython",
    "version": 3
   },
   "file_extension": ".py",
   "mimetype": "text/x-python",
   "name": "python",
   "nbconvert_exporter": "python",
   "pygments_lexer": "ipython3",
   "version": "3.10.8"
  }
 },
 "nbformat": 4,
 "nbformat_minor": 5
}
